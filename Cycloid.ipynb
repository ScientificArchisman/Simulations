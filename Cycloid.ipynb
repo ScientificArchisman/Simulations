{
 "cells": [
  {
   "cell_type": "code",
   "execution_count": 1,
   "id": "7ce16d98-5bcc-455e-89ee-8f5402a2da9c",
   "metadata": {},
   "outputs": [],
   "source": [
    "import numpy as np\n",
    "import matplotlib.pyplot as plt\n",
    "plt.style.use(['science', 'notebook', 'grid', 'dark_background'])\n",
    "from scipy.integrate import odeint\n",
    "import ipywidgets as widget\n",
    "plt.rcParams['figure.figsize'] = (16, 5)\n",
    "from ipywidgets import TwoByTwoLayout"
   ]
  },
  {
   "cell_type": "markdown",
   "id": "ff4830ee-3bdc-421e-8afb-7ee011348ce3",
   "metadata": {},
   "source": [
    "Equations of motion:\n",
    "$$\n",
    "\\ddot{y} = \\omega \\dot{z} , \\;\\;\\; \\ddot{z} = \\omega(\\frac{E}{B} - \\dot{y})\\\\\n",
    "\\omega = \\frac{QB}{m}\\\\\n",
    "\\vec{S} = \n",
    "\\begin{bmatrix}\n",
    "\\dot{y}  \\\\\n",
    " y\\\\\n",
    "\\dot{z} \\\\\n",
    "z\n",
    "\\end{bmatrix}\n",
    "$$"
   ]
  },
  {
   "cell_type": "code",
   "execution_count": 2,
   "id": "6686bf2f-f0b2-40d0-b6dd-9364223d7ff1",
   "metadata": {},
   "outputs": [
    {
     "data": {
      "application/vnd.jupyter.widget-view+json": {
       "model_id": "aa5c0fa3c0d54b3dab7f05b90b3d09d8",
       "version_major": 2,
       "version_minor": 0
      },
      "text/plain": [
       "interactive(children=(FloatSlider(value=5.0, description='Charge Q', max=20.0), FloatSlider(value=5.0, descrip…"
      ]
     },
     "metadata": {},
     "output_type": "display_data"
    }
   ],
   "source": [
    "@widget.interact(Q = widget.FloatSlider(value = 5, min = 0, max = 20, step = 0.1,\n",
    "                                       description = 'Charge Q'), \n",
    "                B = (0, 10, 0.1), E = (0, 10, 0.1), \n",
    "                 m = (0, 10, 0.1), \n",
    "                 nature = widget.ToggleButtons(options = [1, 0, -1], value = 1, \n",
    "                                              description = 'Charge'),\n",
    "                 initial_y = widget.FloatSlider(value = 0, min = 0, max = 10, step = 0.1, \n",
    "                                                description = r'$y(t = 0)$'),\n",
    "                initial_vy =widget.FloatSlider(value = 0, min = 0, max = 10, step = 0.01,\n",
    "                                       description = r'$\\dot{y}( t = 0)$'), \n",
    "                initial_z = widget.FloatSlider(value = 0, min = 0, max = 10, step = 0.01,\n",
    "                                       description = r'$z(t = 0)$'), \n",
    "                initial_vz = widget.FloatSlider(value = 0, min = 0, max = 10, step = 0.01,\n",
    "                                       description = r'$\\dot{z}(t = 0)$'), \n",
    "                final_time= widget.FloatSlider(value = 10, min = 10, max = 50, step = 0.1,\n",
    "                                       description = r'Time $t$'))\n",
    "\n",
    "def CycloidMotion(Q, B, E, m, initial_y = 0, initial_vy = 0, initial_z = 0, initial_vz = 0, \n",
    "                  final_time = 10, nature = 1):\n",
    "    Q = nature*Q\n",
    "    w = Q*B/m # Angular Frequency\n",
    "    \n",
    "    ics = [initial_vy, initial_y, initial_vz, initial_z] # Initial conditions\n",
    "    \n",
    "    def dSdt(S, t): # The ODE Equation\n",
    "        y_dot, y, z_dot, z = S\n",
    "    \n",
    "        return [w*z_dot, # y''\n",
    "                y_dot,   # y'\n",
    "                w*(E/B - y_dot), # z''\n",
    "                z_dot]   # z'\n",
    "\n",
    "    t = np.linspace(0, final_time, 500) # Time range\n",
    "    sols = odeint(func = dSdt, y0 = ics, t = t) # Solutions\n",
    "    \n",
    "    y_vals, z_vals = sols.T[1], sols.T[3]\n",
    "    plt.ylim(0, 0.65)\n",
    "    plt.xlim(-0.1, final_time+0.2)\n",
    "    plt.xlabel(r'$y\\rightarrow$', fontsize = 18)\n",
    "    plt.ylabel(r'$z\\rightarrow$', fontsize = 18)\n",
    "    \n",
    "    plt.plot(y_vals, z_vals, lw = 4)\n"
   ]
  },
  {
   "cell_type": "code",
   "execution_count": null,
   "id": "15153cff-3f28-4692-bdc2-66699cb04bbf",
   "metadata": {},
   "outputs": [],
   "source": []
  },
  {
   "cell_type": "code",
   "execution_count": null,
   "id": "b98a42bb-7609-4441-872b-e58a2723f150",
   "metadata": {},
   "outputs": [],
   "source": []
  }
 ],
 "metadata": {
  "kernelspec": {
   "display_name": "Python 3 (ipykernel)",
   "language": "python",
   "name": "python3"
  },
  "language_info": {
   "codemirror_mode": {
    "name": "ipython",
    "version": 3
   },
   "file_extension": ".py",
   "mimetype": "text/x-python",
   "name": "python",
   "nbconvert_exporter": "python",
   "pygments_lexer": "ipython3",
   "version": "3.10.8"
  },
  "vscode": {
   "interpreter": {
    "hash": "aee8b7b246df8f9039afb4144a1f6fd8d2ca17a180786b69acc140d282b71a49"
   }
  }
 },
 "nbformat": 4,
 "nbformat_minor": 5
}
