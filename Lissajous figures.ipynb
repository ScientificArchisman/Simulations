{
 "cells": [
  {
   "cell_type": "code",
   "execution_count": null,
   "id": "1406d42d",
   "metadata": {},
   "outputs": [],
   "source": [
    "import sympy as sp\n",
    "import numpy as np\n",
    "import matplotlib.pyplot as plt\n",
    "from matplotlib.animation import FuncAnimation"
   ]
  },
  {
   "cell_type": "code",
   "execution_count": null,
   "id": "1a2a314f",
   "metadata": {},
   "outputs": [],
   "source": [
    "# import symbols\n",
    "g, b, t, d, A, delt, l0, gam, A0 = sp.symbols(r'g \\beta t \\rho A \\delta l_0, \\gamma, A_0')"
   ]
  },
  {
   "cell_type": "markdown",
   "id": "9c87c120",
   "metadata": {},
   "source": [
    "# The motion of the pendulum can be attributed to the superposition of 2 damped perpendicular SHMs who have angular frequencies as multiples of the variable angular frequency of the pendulum."
   ]
  },
  {
   "cell_type": "markdown",
   "id": "1a76dfcb",
   "metadata": {},
   "source": [
    "$$x = A_1(t)\\;sin(n\\omega t)\\newline\n",
    "y = A_2(t)\\;sin(m\\omega t + \\delta)$$"
   ]
  },
  {
   "cell_type": "code",
   "execution_count": null,
   "id": "45cccfd8",
   "metadata": {},
   "outputs": [],
   "source": [
    "# Define the values of n amd m. By default, these are set two 6 and 5 respesctively.\n",
    "try:\n",
    "    n = int(input('Please enter n: '))\n",
    "    m = int(input('Please enter m: '))\n",
    "except:\n",
    "    n = 6\n",
    "    m = 5 "
   ]
  },
  {
   "cell_type": "markdown",
   "id": "d452c020",
   "metadata": {},
   "source": [
    "### $$Let\\; \\delta = \\text{initial phase difference of the perpendicular SHMs}, \\newline\n",
    "l_0 = \\text{initial length of pendulum}\\newline\n",
    "\\beta = \\text{rate of mass outflow}\\newline\n",
    "\\rho = \\text{density of sand}\\newline\n",
    "A = \\text{area of container}$$"
   ]
  },
  {
   "cell_type": "code",
   "execution_count": null,
   "id": "dd7d0516",
   "metadata": {},
   "outputs": [],
   "source": [
    "#Defining the substitutions for later use\n",
    "subst = {A0 : 5, #initial amplitude of pendulum \n",
    "         g: 9.8, # acceleration due to gravity\n",
    "         d: 10, # density of sand\n",
    "         l0: 1, #initial length of pendulum\n",
    "         gam: 0.1, #damping coefficient\n",
    "         b: 0.5, #rate of mass outflow\n",
    "         A: 0.4, # c.s area of the container\n",
    "         delt:0 # initial phase difference of the two SHMs\n",
    "        }"
   ]
  },
  {
   "cell_type": "markdown",
   "id": "ac2ac178",
   "metadata": {},
   "source": [
    "$$\\omega(t) =\\sqrt{\\frac{g}{l_0 + \\frac{\\beta t}{\\rho a}}}\\newline\n",
    "x = A_1(t)\\;sin(\\omega t)\\newline\n",
    "y = A_2(t)\\; sin(\\omega t + \\delta)\\newline\n",
    "\\frac{x^2}{A_1^2} + \\frac{y^2}{A_2^2} - \\frac{2xy\\;cos(\\delta)}{A_1A_2} = sin^2(\\delta) - Equation\\;of\\;the\\;curves \n",
    "$$"
   ]
  },
  {
   "cell_type": "code",
   "execution_count": null,
   "id": "e617ddaf",
   "metadata": {},
   "outputs": [],
   "source": [
    "# define the time dependent symbolic functions\n",
    "w = sp.Function(r'\\omega')(t)\n",
    "A1 = sp.Function(r'A_1')(t)\n",
    "A2 = sp.Function(r'A_2')(t)"
   ]
  },
  {
   "cell_type": "code",
   "execution_count": null,
   "id": "7a7915b6",
   "metadata": {},
   "outputs": [],
   "source": [
    "# Define the angular frequency and the amplitudes\n",
    "w = sp.sqrt(g/(l0 + (b*t/(d*A))))\n",
    "A1 = A0*sp.exp(-gam*t)\n",
    "A2 = A0*sp.exp(-gam*t)"
   ]
  },
  {
   "cell_type": "markdown",
   "id": "6d86dbeb",
   "metadata": {},
   "source": [
    "# The amplitudes of the perpendicular SHMs are given as\n",
    "## $$A_1(t) = A_0e^{-\\beta t}\\newline\n",
    "A_2(t) = A_0e^{-\\beta t}$$\n",
    "## The individual perpendicular SHMs are damped and hence follow the general equation:\n",
    "## $$ \\ddot{x} + 2\\beta\\dot{x} + kx = 0, \\newline \\;where\\; a,and\\; \\beta\\; are \\;constants \\;and\\; \\beta =\\;damping\\; parameter.$$ "
   ]
  },
  {
   "cell_type": "markdown",
   "id": "964cca37",
   "metadata": {},
   "source": [
    "The working formula of the angular frequency of the pendulum is \n",
    "$$ \\omega(t) =\\sqrt{\\frac{g}{l_0 + \\frac{\\beta t}{\\rho a}}}$$\n",
    "\n",
    "The effective length of the pendulum is also changing. Hence, the working formula for the effective length of the pendulum is\n",
    "$$ l_{eff}(t) = L_0 + \\frac{\\beta}{A\\rho}t$$"
   ]
  },
  {
   "cell_type": "markdown",
   "id": "ff09dfde",
   "metadata": {},
   "source": [
    "## The x and y components of the curves are given by the individual damped SHMs:\n",
    "### $$x = A_1(t)\\;sin(n\\omega t)\\newline\n",
    "y = A_2(t)\\;sin(m\\omega t + \\delta)$$"
   ]
  },
  {
   "cell_type": "code",
   "execution_count": null,
   "id": "21bff31a",
   "metadata": {},
   "outputs": [],
   "source": [
    "# Define the symbolic x values and the y values\n",
    "x = A1*sp.sin(n*w*t)\n",
    "y = A2*sp.sin(m*w*t + delt)"
   ]
  },
  {
   "cell_type": "code",
   "execution_count": null,
   "id": "6d4382bc",
   "metadata": {},
   "outputs": [],
   "source": [
    "# Convert the symbolic expressions to functions for plotting\n",
    "w_f = sp.lambdify(t, w.subs(subst))\n",
    "x_pts = sp.lambdify(t, x.subs(subst))\n",
    "y_pts = sp.lambdify(t, y.subs(subst))\n",
    "\n",
    "# Defining the time of plotting\n",
    "time = np.linspace(0,20,1000)\n",
    "\n",
    "# create the data points\n",
    "x_div = x_pts(time)\n",
    "y_div = y_pts(time)"
   ]
  },
  {
   "cell_type": "code",
   "execution_count": null,
   "id": "bf847aae",
   "metadata": {},
   "outputs": [],
   "source": [
    "# animating the graph\n",
    "\n",
    "#Set the figure\n",
    "fig, ax = plt.subplots(figsize=(12,10))\n",
    "ax.grid()\n",
    "ax.set_xlabel(r'$x\\rightarrow$')\n",
    "ax.set_ylabel(r'$y\\rightarrow$')\n",
    "ax.set(xlim = (-5, 5), ylim = (-5,5))\n",
    "line, =  ax.plot([],[], 'ro-') # blank line object for the lines\n",
    "\n",
    "# define the animating function which append to the empty line object for every x and y value\n",
    "def animate(i):\n",
    "    line.set_data(x_div[:i], y_div[:i])\n",
    "    return line,\n",
    "\n",
    "# Create the animation\n",
    "anim = FuncAnimation(fig, animate, frames = len(time), blit = True, interval = 50)\n",
    "\n",
    "# Change the output format to JavaScript Html 'jshtml'\n",
    "plt.rcParams['animation.html'] = 'jshtml'\n",
    "\n",
    "plt.rcParams['animation.embed_limit'] = 50\n",
    "\n",
    "# Call the animation\n",
    "anim"
   ]
  }
 ],
 "metadata": {
  "kernelspec": {
   "display_name": "Python 3 (ipykernel)",
   "language": "python",
   "name": "python3"
  },
  "language_info": {
   "codemirror_mode": {
    "name": "ipython",
    "version": 3
   },
   "file_extension": ".py",
   "mimetype": "text/x-python",
   "name": "python",
   "nbconvert_exporter": "python",
   "pygments_lexer": "ipython3",
   "version": "3.9.7"
  }
 },
 "nbformat": 4,
 "nbformat_minor": 5
}
